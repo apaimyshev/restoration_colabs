{
  "nbformat": 4,
  "nbformat_minor": 0,
  "metadata": {
    "colab": {
      "name": "chistogipoteticheski_video.ipynb",
      "provenance": [],
      "collapsed_sections": [
        "mPluZnz-bjlt",
        "HJrRAYghiILz",
        "8bFDSjGl94UE",
        "awJtC4Fk4hva",
        "oV8cUjSAtzPj"
      ],
      "toc_visible": true,
      "authorship_tag": "ABX9TyO4rru0v0GuewGFUismTyp0",
      "include_colab_link": true
    },
    "kernelspec": {
      "name": "python3",
      "display_name": "Python 3"
    },
    "accelerator": "GPU"
  },
  "cells": [
    {
      "cell_type": "markdown",
      "metadata": {
        "id": "view-in-github",
        "colab_type": "text"
      },
      "source": [
        "<a href=\"https://colab.research.google.com/github/apaimyshev/restoration_colabs/blob/main/chistogipoteticheski_video.ipynb\" target=\"_parent\"><img src=\"https://colab.research.google.com/assets/colab-badge.svg\" alt=\"Open In Colab\"/></a>"
      ]
    },
    {
      "cell_type": "markdown",
      "metadata": {
        "id": "GIA66tGibVww"
      },
      "source": [
        "<b><font color=\"black\" size=\"+3\">Набор нейросетевых инструментов для реставрации видео</font></b>\n",
        "\n",
        "Создан на базе блокнота ENTAR Rus от [@tg-bomze](https://github.com/tg-bomze).\n",
        "\n",
        "Создал Антон Паймышев, tg: [@chistogipoteticheski](https://t.me/chistogipoteticheski).  \n",
        "21 ноября 2020 года."
      ]
    },
    {
      "cell_type": "markdown",
      "metadata": {
        "id": "mPluZnz-bjlt"
      },
      "source": [
        "# <b>Подготовка к работе"
      ]
    },
    {
      "cell_type": "code",
      "metadata": {
        "id": "j-mE8OiDcT6Z",
        "colab": {
          "base_uri": "https://localhost:8080/"
        },
        "outputId": "ec0037a5-a19b-4898-b32a-547ac9224b3f"
      },
      "source": [
        "#@title ##**Устанавливаем необходимые библиотеки** { display-mode: \"form\" }\n",
        "\n",
        "\n",
        "!pip install youtube_dl\n",
        "!pip install ffmpeg\n",
        "!pip install ffmpeg-python\n",
        "!pip install torch==1.4.0+cu100 torchvision==0.5.0+cu100 -f https://download.pytorch.org/whl/torch_stable.html\n",
        "!pip install scipy==1.4.1\n",
        "!CUDA_VISIBLE_DEVICES=0\n",
        "!sudo apt-get install imagemagick imagemagick-doc\n",
        "!pip install gdown==3.6.4\n",
        "\n",
        "from IPython.display import clear_output\n",
        "from google.colab import files\n",
        "import imageio\n",
        "import youtube_dl\n",
        "import cv2\n",
        "import os\n",
        "import torch\n",
        "import fastai\n",
        "import ffmpeg\n",
        "import os.path as osp\n",
        "import logging\n",
        "import shutil\n",
        "import re\n",
        "import gc\n",
        "from PIL import Image\n",
        "from tqdm import tqdm\n",
        "from os import path\n",
        "import numpy as np\n",
        "import moviepy.editor as mpy\n",
        "from moviepy.video.io.ffmpeg_writer import FFMPEG_VideoWriter\n",
        "from pathlib import Path\n",
        "import sys\n",
        "import glob\n",
        "from IPython import display as ipythondisplay\n",
        "from IPython.display import Image as ipythonimage\n",
        "torch.backends.cudnn.benchmark=True\n",
        "import subprocess as sp\n",
        "\n",
        "%matplotlib inline\n",
        "\n",
        "!rm -rf sample_data\n",
        "clear_output()\n",
        "print(\"Установили все зависимости. Можно переходить к следующему шагу.\")\n"
      ],
      "execution_count": 1,
      "outputs": [
        {
          "output_type": "stream",
          "text": [
            "Установили все зависимости. Можно переходить к следующему шагу.\n"
          ],
          "name": "stdout"
        }
      ]
    },
    {
      "cell_type": "code",
      "metadata": {
        "id": "G6fxuDeAcskh",
        "colab": {
          "resources": {
            "http://localhost:8080/nbextensions/google.colab/files.js": {
              "data": "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",
              "ok": true,
              "headers": [
                [
                  "content-type",
                  "application/javascript"
                ]
              ],
              "status": 200,
              "status_text": ""
            }
          },
          "base_uri": "https://localhost:8080/",
          "height": 124
        },
        "outputId": "27c233ae-c9a6-4384-e65a-68938398cd77"
      },
      "source": [
        "#@title ##**Загружаем видео (обязательный формат MP4)** { display-mode: \"form\" }\n",
        "#@markdown *Ниже введите ссылку на видео (например, YouTube или Twitter), либо оставьте поле **source_url** пустым (в таком случае будет предложено загрузить ролик с компьютера).*\n",
        "%cd /content\n",
        "source_url = '' #@param {type:\"string\"}\n",
        "\n",
        "if source_url == '':\n",
        "  uploaded = files.upload()\n",
        "  for fn in uploaded.keys():\n",
        "    print('User uploaded file \"{name}\" with length {length} bytes'.format(\n",
        "        name=fn, length=len(uploaded[fn])))\n",
        "  os.rename(fn, fn.replace(\" \", \"\"))\n",
        "  fn = fn.replace(\" \", \"\")\n",
        "  f_ext = fn.split(\".\")[-1]\n",
        "  file_name = \"video.\" + f_ext\n",
        "  !mv -f $fn $file_name\n",
        "\n",
        "else:\n",
        "  try:\n",
        "    ydl_opts = {\n",
        "        'format': 'bestvideo[ext=mp4]+bestaudio[ext=m4a]/mp4',\n",
        "        'outtmpl': 'video.mp4',\n",
        "        }\n",
        "    with youtube_dl.YoutubeDL(ydl_opts) as ydl:\n",
        "      ydl.download([source_url])\n",
        "    file_name = 'video.mp4'\n",
        "  \n",
        "  except BaseException:\n",
        "    !wget $source_url\n",
        "    fn = source_url.split('/')[-1]\n",
        "    os.rename(fn, fn.replace(\" \", \"\"))\n",
        "    fn = fn.replace(\" \", \"\")\n",
        "    f_ext = fn.split(\".\")[-1]\n",
        "    file_name = \"video.\" + f_ext\n",
        "    !mv -f $fn $file_name\n",
        "\n",
        "file_back = \"video_back.\" + f_ext\n",
        "\n",
        "shutil.copy(file_name, file_back)\n",
        "\n",
        "file_src = \"/content/\" + file_name\n",
        "clear_output()\n",
        "fps_of_video = int(cv2.VideoCapture(file_name).get(cv2.CAP_PROP_FPS))\n",
        "frames_of_video = int(cv2.VideoCapture(file_name).get(cv2.CAP_PROP_FRAME_COUNT))\n",
        "print(\"Видео загружено, переходите к следующему шагу.\")\n",
        "#@markdown *Не рекомендуется загружать видео, длящиеся дольше одной минуты и содержащие в названии файла точки или пробелы.*\n",
        "\n",
        "#@markdown *Если при выполнении возникнет ошибка, то запустите этот блок заново*"
      ],
      "execution_count": 5,
      "outputs": [
        {
          "output_type": "stream",
          "text": [
            "/content\n"
          ],
          "name": "stdout"
        },
        {
          "output_type": "display_data",
          "data": {
            "text/html": [
              "\n",
              "     <input type=\"file\" id=\"files-89267339-54ff-4bd7-aed0-2a974f47f70e\" name=\"files[]\" multiple disabled\n",
              "        style=\"border:none\" />\n",
              "     <output id=\"result-89267339-54ff-4bd7-aed0-2a974f47f70e\">\n",
              "      Upload widget is only available when the cell has been executed in the\n",
              "      current browser session. Please rerun this cell to enable.\n",
              "      </output>\n",
              "      <script src=\"/nbextensions/google.colab/files.js\"></script> "
            ],
            "text/plain": [
              "<IPython.core.display.HTML object>"
            ]
          },
          "metadata": {
            "tags": []
          }
        },
        {
          "output_type": "stream",
          "text": [
            "Saving Памятник Александру III.mp4 to Памятник Александру III.mp4\n",
            "User uploaded file \"Памятник Александру III.mp4\" with length 6128433 bytes\n",
            "360\n"
          ],
          "name": "stdout"
        }
      ]
    },
    {
      "cell_type": "markdown",
      "metadata": {
        "id": "HJrRAYghiILz"
      },
      "source": [
        "# <b>Удаление мелких помех ([DeepRemaster](https://github.com/satoshiiizuka/siggraphasia2019_remastering))\n"
      ]
    },
    {
      "cell_type": "markdown",
      "metadata": {
        "id": "_sk4eUsyiUe9"
      },
      "source": [
        "Автор: [Satoshi Iizuka](http://iizuka.cs.tsukuba.ac.jp/index_eng.html)"
      ]
    },
    {
      "cell_type": "code",
      "metadata": {
        "id": "3AsVbA7ziXkr"
      },
      "source": [
        "#@title ##**Клонируем репозиторий** { display-mode: \"form\" }\n",
        "%cd /content\n",
        "!git clone https://github.com/satoshiiizuka/siggraphasia2019_remastering.git DeepRemaster\n",
        "file_remaster = \"/content/DeepRemaster/\" + file_name\n",
        "shutil.copy(file_src, file_remaster)\n",
        "%cd /content/DeepRemaster\n",
        "clear_output()"
      ],
      "execution_count": 40,
      "outputs": []
    },
    {
      "cell_type": "code",
      "metadata": {
        "id": "pRwYAFEdi64I",
        "colab": {
          "base_uri": "https://localhost:8080/"
        },
        "outputId": "76863d16-481b-473d-8155-2c7b57b2a76a"
      },
      "source": [
        "#@title ##**Качаем предобученную модель** { display-mode: \"form\" }\n",
        "%cd /content/DeepRemaster\n",
        "!rm -rf model/remasternet.pth.tar\n",
        "!bash ./download_model.sh\n"
      ],
      "execution_count": 36,
      "outputs": [
        {
          "output_type": "stream",
          "text": [
            "/content/DeepRemaster\n",
            "Downloading the RemasterNet (245MB)...\n",
            "--2020-11-21 15:08:07--  http://iizuka.cs.tsukuba.ac.jp/data/remasternet.pth.tar\n",
            "Resolving iizuka.cs.tsukuba.ac.jp (iizuka.cs.tsukuba.ac.jp)... 130.158.81.20\n",
            "Connecting to iizuka.cs.tsukuba.ac.jp (iizuka.cs.tsukuba.ac.jp)|130.158.81.20|:80... connected.\n",
            "HTTP request sent, awaiting response... 200 OK\n",
            "Length: 256796033 (245M) [application/x-tar]\n",
            "Saving to: ‘model/remasternet.pth.tar’\n",
            "\n",
            "model/remasternet.p 100%[===================>] 244.90M  19.2MB/s    in 14s     \n",
            "\n",
            "2020-11-21 15:08:21 (17.3 MB/s) - ‘model/remasternet.pth.tar’ saved [256796033/256796033]\n",
            "\n",
            "Checking integrity (md5sum)...\n",
            "Download finished successfully!\n"
          ],
          "name": "stdout"
        }
      ]
    },
    {
      "cell_type": "code",
      "metadata": {
        "id": "y2xHgmNWjIij",
        "colab": {
          "base_uri": "https://localhost:8080/"
        },
        "outputId": "1bbfb843-90ef-49c6-d1df-e18a1e6a5d34"
      },
      "source": [
        "#@title ##**Удаляем помехи на кадрах** { display-mode: \"form\" }\n",
        "FRAME_WIDTH = int(cv2.VideoCapture(file_remaster).get(cv2.CAP_PROP_FRAME_WIDTH))\n",
        "FRAME_HEIGHT = int(cv2.VideoCapture(file_remaster).get(cv2.CAP_PROP_FRAME_HEIGHT))\n",
        "mindim = min(FRAME_WIDTH, FRAME_HEIGHT)\n",
        "\n",
        "print(mindim)\n",
        "\n",
        "!python remaster.py --input $file_remaster --disable_colorization --gpu --mindim $mindim\n",
        "clear_output()"
      ],
      "execution_count": 41,
      "outputs": [
        {
          "output_type": "stream",
          "text": [
            "352\n"
          ],
          "name": "stdout"
        }
      ]
    },
    {
      "cell_type": "code",
      "metadata": {
        "id": "DtGMmr6BjU5A",
        "colab": {
          "base_uri": "https://localhost:8080/",
          "height": 17
        },
        "outputId": "aa23aab0-8669-4af0-fad9-b0c793274b23"
      },
      "source": [
        "#@title ##**Получаем результат** { display-mode: \"form\" }\n",
        "#@markdown **play** *- воспроизвести видео в браузере,*\n",
        "\n",
        "#@markdown **download** *- загрузить на компьютер*\n",
        "!rm -rf $file_src\n",
        "!cp -r video_out.mp4 $file_src\n",
        "!cp -r video_out.mp4 /content/denoise_video.mp4\n",
        "what_next = 'download' #@param [\"play\", \"download\"]\n",
        "if what_next == \"play\":\n",
        "  display(mpy.ipython_display(\"/content/denoise_video.mp4\", height=400, autoplay=1, loop=1, maxduration=600))\n",
        "else:\n",
        "  files.download('/content/denoise_video.mp4')"
      ],
      "execution_count": 38,
      "outputs": [
        {
          "output_type": "display_data",
          "data": {
            "application/javascript": [
              "\n",
              "    async function download(id, filename, size) {\n",
              "      if (!google.colab.kernel.accessAllowed) {\n",
              "        return;\n",
              "      }\n",
              "      const div = document.createElement('div');\n",
              "      const label = document.createElement('label');\n",
              "      label.textContent = `Downloading \"${filename}\": `;\n",
              "      div.appendChild(label);\n",
              "      const progress = document.createElement('progress');\n",
              "      progress.max = size;\n",
              "      div.appendChild(progress);\n",
              "      document.body.appendChild(div);\n",
              "\n",
              "      const buffers = [];\n",
              "      let downloaded = 0;\n",
              "\n",
              "      const channel = await google.colab.kernel.comms.open(id);\n",
              "      // Send a message to notify the kernel that we're ready.\n",
              "      channel.send({})\n",
              "\n",
              "      for await (const message of channel.messages) {\n",
              "        // Send a message to notify the kernel that we're ready.\n",
              "        channel.send({})\n",
              "        if (message.buffers) {\n",
              "          for (const buffer of message.buffers) {\n",
              "            buffers.push(buffer);\n",
              "            downloaded += buffer.byteLength;\n",
              "            progress.value = downloaded;\n",
              "          }\n",
              "        }\n",
              "      }\n",
              "      const blob = new Blob(buffers, {type: 'application/binary'});\n",
              "      const a = document.createElement('a');\n",
              "      a.href = window.URL.createObjectURL(blob);\n",
              "      a.download = filename;\n",
              "      div.appendChild(a);\n",
              "      a.click();\n",
              "      div.remove();\n",
              "    }\n",
              "  "
            ],
            "text/plain": [
              "<IPython.core.display.Javascript object>"
            ]
          },
          "metadata": {
            "tags": []
          }
        },
        {
          "output_type": "display_data",
          "data": {
            "application/javascript": [
              "download(\"download_14f917ad-6aff-4b48-bf58-4251b3e4e784\", \"denoise_video.mp4\", 642643)"
            ],
            "text/plain": [
              "<IPython.core.display.Javascript object>"
            ]
          },
          "metadata": {
            "tags": []
          }
        }
      ]
    },
    {
      "cell_type": "markdown",
      "metadata": {
        "id": "8bFDSjGl94UE"
      },
      "source": [
        "# <b>Интерполяция кадров ([DAIN](https://github.com/baowenbo/DAIN))\n"
      ]
    },
    {
      "cell_type": "markdown",
      "metadata": {
        "id": "MX0c3KYNcRO9"
      },
      "source": [
        "Авторы: [Wenbo Bao](mailto:bwb0813@gmail.com); [Wei-Sheng (Jason) Lai](mailto:phoenix104104@gmail.com)"
      ]
    },
    {
      "cell_type": "code",
      "metadata": {
        "id": "K-wfvmXT-FZY",
        "colab": {
          "base_uri": "https://localhost:8080/"
        },
        "outputId": "699b2426-1e19-4032-f919-c0b9fb562ff8"
      },
      "source": [
        "#@title ##**Настройка параметров** { display-mode: \"form\" }\n",
        "\n",
        "INPUT_FILEPATH = \"/content/video.mp4\" \n",
        "OUTPUT_FILE_PATH = \"/content/video.mp4\" \n",
        "TARGET_FPS = 60 \n",
        "FRAME_INPUT_DIR = '/content/DAIN/input_frames' \n",
        "FRAME_OUTPUT_DIR = '/content/DAIN/output_frames' \n",
        "START_FRAME = 1\n",
        "END_FRAME = -1 \n",
        "SEAMLESS = False \n",
        "RESIZE_HOTFIX = False \n",
        "AUTO_REMOVE = False \n",
        "\n",
        "# Check your current GPU\n",
        "# If you are lucky, you get 16GB VRAM. If you are not lucky, you get less. VRAM is important. The more VRAM, the higher the maximum resolution will go.\n",
        "\n",
        "# 16GB: Can handle 720p. 1080p will procude an out-of-memory error. \n",
        "# 8GB: Can handle 480p. 720p will produce an out-of-memory error.\n",
        "\n",
        "!nvidia-smi --query-gpu=gpu_name,driver_version,memory.total --format=csv\n",
        "\n",
        "print(\"Настройка завершена\")"
      ],
      "execution_count": 49,
      "outputs": [
        {
          "output_type": "stream",
          "text": [
            "name, driver_version, memory.total [MiB]\n",
            "Tesla T4, 418.67, 15079 MiB\n",
            "Настройка завершена\n"
          ],
          "name": "stdout"
        }
      ]
    },
    {
      "cell_type": "code",
      "metadata": {
        "id": "7oJN7aVl_K0O",
        "colab": {
          "base_uri": "https://localhost:8080/"
        },
        "outputId": "5c78579f-4aae-4ecf-d5dc-8f73b6c6fe0d"
      },
      "source": [
        "#@title ##**Клонируем репозиторий** { display-mode: \"form\" }\n",
        "%cd /content\n",
        "!git clone -b master --depth 1 https://github.com/baowenbo/DAIN /content/DAIN\n",
        "%cd /content/DAIN\n",
        "!git log -1"
      ],
      "execution_count": 17,
      "outputs": [
        {
          "output_type": "stream",
          "text": [
            "/content\n",
            "Cloning into '/content/DAIN'...\n",
            "remote: Enumerating objects: 142, done.\u001b[K\n",
            "remote: Counting objects: 100% (142/142), done.\u001b[K\n",
            "remote: Compressing objects: 100% (93/93), done.\u001b[K\n",
            "remote: Total 142 (delta 42), reused 107 (delta 35), pack-reused 0\u001b[K\n",
            "Receiving objects: 100% (142/142), 97.64 KiB | 16.27 MiB/s, done.\n",
            "Resolving deltas: 100% (42/42), done.\n",
            "/content/DAIN\n",
            "\u001b[33mcommit 9d9c0d7b3718dfcda9061c85efec472478a3aa86\u001b[m\u001b[33m (\u001b[m\u001b[1;34mgrafted\u001b[m\u001b[33m, \u001b[m\u001b[1;36mHEAD -> \u001b[m\u001b[1;32mmaster\u001b[m\u001b[33m, \u001b[m\u001b[1;31morigin/master\u001b[m\u001b[33m, \u001b[m\u001b[1;31morigin/HEAD\u001b[m\u001b[33m)\u001b[m\n",
            "Author: Wenbo Bao <baowenbo@users.noreply.github.com>\n",
            "Date:   Thu Oct 29 12:16:31 2020 +0800\n",
            "\n",
            "    Merge pull request #89 from AlphaGit/partial-video-processing\n",
            "    \n",
            "    Colab: Partial video processing\n"
          ],
          "name": "stdout"
        }
      ]
    },
    {
      "cell_type": "code",
      "metadata": {
        "id": "-AaqSA3v_NU8",
        "colab": {
          "base_uri": "https://localhost:8080/"
        },
        "outputId": "b533f181-212e-4c92-a0f7-cc9d7869c9e9"
      },
      "source": [
        "#@title ##**Собираем DAIN (~15 минут)** { display-mode: \"form\" }\n",
        "# This takes a while. Just wait. ~15 minutes.\n",
        "# Building DAIN.\n",
        "%cd /content/DAIN/my_package/\n",
        "!./build.sh\n",
        "clear_output()\n",
        "print(\"Building #1 done.\")"
      ],
      "execution_count": 18,
      "outputs": [
        {
          "output_type": "stream",
          "text": [
            "Building #1 done.\n"
          ],
          "name": "stdout"
        }
      ]
    },
    {
      "cell_type": "code",
      "metadata": {
        "id": "cD820H97_RSk",
        "colab": {
          "base_uri": "https://localhost:8080/"
        },
        "outputId": "c18f5ade-111b-45e2-855e-933b474d37cb"
      },
      "source": [
        "#@title ##**Собираем DAIN еще немного (~5 минут)** { display-mode: \"form\" }\n",
        "# Wait again. ~5 minutes.\n",
        "# Building DAIN PyTorch correlation package.\n",
        "%cd /content/DAIN/PWCNet/correlation_package_pytorch1_0\n",
        "!./build.sh\n",
        "clear_output()\n",
        "print(\"Building #2 done.\")"
      ],
      "execution_count": 19,
      "outputs": [
        {
          "output_type": "stream",
          "text": [
            "Building #2 done.\n"
          ],
          "name": "stdout"
        }
      ]
    },
    {
      "cell_type": "code",
      "metadata": {
        "id": "oVZj1Kq9_Tpp",
        "colab": {
          "base_uri": "https://localhost:8080/"
        },
        "outputId": "11fec465-88ac-42f4-dff7-bdcf75dbd450"
      },
      "source": [
        "#@title ##**Качаем предобученную модель** { display-mode: \"form\" }\n",
        "\n",
        "# Downloading pre-trained model\n",
        "%cd /content/DAIN\n",
        "!mkdir model_weights\n",
        "!wget -O model_weights/best.pth http://vllab1.ucmerced.edu/~wenbobao/DAIN/best.pth"
      ],
      "execution_count": 20,
      "outputs": [
        {
          "output_type": "stream",
          "text": [
            "/content/DAIN\n",
            "--2020-11-21 14:38:47--  http://vllab1.ucmerced.edu/~wenbobao/DAIN/best.pth\n",
            "Resolving vllab1.ucmerced.edu (vllab1.ucmerced.edu)... 169.236.184.68\n",
            "Connecting to vllab1.ucmerced.edu (vllab1.ucmerced.edu)|169.236.184.68|:80... connected.\n",
            "HTTP request sent, awaiting response... 200 OK\n",
            "Length: 96319643 (92M)\n",
            "Saving to: ‘model_weights/best.pth’\n",
            "\n",
            "model_weights/best. 100%[===================>]  91.86M  29.8MB/s    in 3.1s    \n",
            "\n",
            "2020-11-21 14:38:50 (29.8 MB/s) - ‘model_weights/best.pth’ saved [96319643/96319643]\n",
            "\n"
          ],
          "name": "stdout"
        }
      ]
    },
    {
      "cell_type": "code",
      "metadata": {
        "id": "7thGTdCX_WLG",
        "colab": {
          "base_uri": "https://localhost:8080/"
        },
        "outputId": "e3fa2685-bbfd-4b01-f733-7d25a2652d5f"
      },
      "source": [
        "#@title ##**Определяем FPS исходного видео** { display-mode: \"form\" }\n",
        "\n",
        "# Detecting FPS of input file.\n",
        "%shell yes | cp -f {INPUT_FILEPATH} /content/DAIN/\n",
        "\n",
        "filename = os.path.basename(INPUT_FILEPATH)\n",
        "\n",
        "cap = cv2.VideoCapture(f'/content/DAIN/{filename}')\n",
        "\n",
        "fps = cap.get(cv2.CAP_PROP_FPS)\n",
        "print(f\"Input file has {fps} fps\")\n",
        "\n",
        "if(fps/TARGET_FPS>0.5):\n",
        "  print(\"Define a higher fps, because there is not enough time for new frames. (Old FPS)/(New FPS) should be lower than 0.5. Interpolation will fail if you try.\")"
      ],
      "execution_count": 21,
      "outputs": [
        {
          "output_type": "stream",
          "text": [
            "Input file has 25.0 fps\n"
          ],
          "name": "stdout"
        }
      ]
    },
    {
      "cell_type": "code",
      "metadata": {
        "id": "1p_nmQ5I_YCj",
        "colab": {
          "base_uri": "https://localhost:8080/"
        },
        "outputId": "3fd2d9a8-cafb-405c-c2ef-2e09706b888a"
      },
      "source": [
        "#@title ##**Преобразуем видео для дальнейшей работы** { display-mode: \"form\" }\n",
        "\n",
        "# ffmpeg extract - Generating individual frame PNGs from the source file.\n",
        "%shell rm -rf '{FRAME_INPUT_DIR}'\n",
        "%shell mkdir -p '{FRAME_INPUT_DIR}'\n",
        "\n",
        "if (END_FRAME==-1):\n",
        "  %shell ffmpeg -i '/content/DAIN/{filename}' -vf 'select=gte(n\\,{START_FRAME}),setpts=PTS-STARTPTS' '{FRAME_INPUT_DIR}/%05d.png'\n",
        "else:\n",
        "  %shell ffmpeg -i '/content/DAIN/{filename}' -vf 'select=between(n\\,{START_FRAME}\\,{END_FRAME}),setpts=PTS-STARTPTS' '{FRAME_INPUT_DIR}/%05d.png'\n",
        "\n",
        "clear_output()\n",
        "\n",
        "png_generated_count_command_result = %shell ls '{FRAME_INPUT_DIR}' | wc -l\n",
        "frame_count = int(png_generated_count_command_result.output.strip())\n",
        "\n",
        "import shutil\n",
        "if SEAMLESS:\n",
        "  frame_count += 1\n",
        "  first_frame = f\"{FRAME_INPUT_DIR}/00001.png\"\n",
        "  new_last_frame = f\"{FRAME_INPUT_DIR}/{frame_count.zfill(5)}.png\"\n",
        "  shutil.copyfile(first_frame, new_last_frame)\n",
        "\n",
        "print(f\"{frame_count} frame PNGs generated.\")\n",
        "\n",
        "# Checking if PNGs do have alpha\n",
        "%cd {FRAME_INPUT_DIR}\n",
        "channels = sp.getoutput('identify -format %[channels] 00001.png')\n",
        "print (f\"{channels} detected\")\n",
        "\n",
        "# Removing alpha if detected\n",
        "if \"a\" in channels:\n",
        "  print(\"Alpha channel detected and will be removed.\")\n",
        "  print(sp.getoutput('find . -name \"*.png\" -exec convert \"{}\" -alpha off PNG24:\"{}\" \\;'))\n"
      ],
      "execution_count": 22,
      "outputs": [
        {
          "output_type": "stream",
          "text": [
            "264\n",
            "264 frame PNGs generated.\n"
          ],
          "name": "stdout"
        }
      ]
    },
    {
      "cell_type": "code",
      "metadata": {
        "id": "F4CGsg1h_dUg",
        "colab": {
          "base_uri": "https://localhost:8080/"
        },
        "outputId": "34f7e079-0aa1-453a-a98b-5b419bf11a6a"
      },
      "source": [
        "#@title ##**Интерполируем!** { display-mode: \"form\" }\n",
        "\n",
        "# Interpolation\n",
        "%shell mkdir -p '{FRAME_OUTPUT_DIR}'\n",
        "%cd /content/DAIN\n",
        "\n",
        "!python -W ignore colab_interpolate.py --netName DAIN_slowmotion --time_step {fps/TARGET_FPS} --start_frame 1 --end_frame {frame_count} --frame_input_dir '{FRAME_INPUT_DIR}' --frame_output_dir '{FRAME_OUTPUT_DIR}'"
      ],
      "execution_count": 24,
      "outputs": [
        {
          "output_type": "stream",
          "text": [
            "/content/DAIN\n",
            "revise the unique id to a random numer 60774\n",
            "Namespace(SAVED_MODEL=None, alpha=[0.0, 1.0], arg='./model_weights/60774-Sat-Nov-21-14-39/args.txt', batch_size=1, channels=3, ctx_lr_coe=1.0, datasetName='Vimeo_90K_interp', datasetPath='', dataset_split=97, debug=False, depth_lr_coe=0.001, dtype=<class 'torch.cuda.FloatTensor'>, end_frame=264, epsilon=1e-06, factor=0.2, filter_lr_coe=1.0, filter_size=4, flow_lr_coe=0.01, force=False, frame_input_dir='/content/DAIN/input_frames', frame_output_dir='/content/DAIN/output_frames', log='./model_weights/60774-Sat-Nov-21-14-39/log.txt', lr=0.002, netName='DAIN_slowmotion', no_date=False, numEpoch=100, occ_lr_coe=1.0, patience=5, rectify_lr=0.001, save_path='./model_weights/60774-Sat-Nov-21-14-39', save_which=1, seed=1, start_frame=1, time_step=0.4166666666666667, uid=None, use_cuda=True, use_cudnn=1, weight_decay=0, workers=8)\n",
            "cudnn is used\n",
            "Interpolate 1 frames\n",
            "****** Processed frame 1 | Time per frame (avg): 8.63s | Time left: 0:37:50.954082 ******************\n",
            "****** Processed frame 2 | Time per frame (avg): 4.70s | Time left: 0:20:30.185336 ******************\n",
            "****** Processed frame 3 | Time per frame (avg): 3.39s | Time left: 0:14:44.148983 ******************\n",
            "****** Processed frame 4 | Time per frame (avg): 2.74s | Time left: 0:11:51.296539 ******************\n",
            "****** Processed frame 5 | Time per frame (avg): 2.35s | Time left: 0:10:07.933041 ******************\n",
            "****** Processed frame 6 | Time per frame (avg): 2.09s | Time left: 0:08:58.223545 ******************\n",
            "****** Processed frame 7 | Time per frame (avg): 1.90s | Time left: 0:08:08.198625 ******************\n",
            "****** Processed frame 8 | Time per frame (avg): 1.76s | Time left: 0:07:30.695877 ******************\n",
            "****** Processed frame 9 | Time per frame (avg): 1.65s | Time left: 0:07:01.426814 ******************\n",
            "****** Processed frame 10 | Time per frame (avg): 1.57s | Time left: 0:06:38.092689 ******************\n",
            "****** Processed frame 11 | Time per frame (avg): 1.50s | Time left: 0:06:18.506904 ******************\n",
            "****** Processed frame 12 | Time per frame (avg): 1.44s | Time left: 0:06:02.251447 ******************\n",
            "****** Processed frame 13 | Time per frame (avg): 1.39s | Time left: 0:05:48.358763 ******************\n",
            "****** Processed frame 14 | Time per frame (avg): 1.35s | Time left: 0:05:36.540341 ******************\n",
            "****** Processed frame 15 | Time per frame (avg): 1.31s | Time left: 0:05:26.213574 ******************\n",
            "****** Processed frame 16 | Time per frame (avg): 1.28s | Time left: 0:05:16.830677 ******************\n",
            "****** Processed frame 17 | Time per frame (avg): 1.25s | Time left: 0:05:08.472815 ******************\n",
            "****** Processed frame 18 | Time per frame (avg): 1.22s | Time left: 0:05:00.969335 ******************\n",
            "****** Processed frame 19 | Time per frame (avg): 1.20s | Time left: 0:04:54.236195 ******************\n",
            "****** Processed frame 20 | Time per frame (avg): 1.18s | Time left: 0:04:48.286286 ******************\n",
            "****** Processed frame 21 | Time per frame (avg): 1.16s | Time left: 0:04:42.689272 ******************\n",
            "****** Processed frame 22 | Time per frame (avg): 1.15s | Time left: 0:04:37.472455 ******************\n",
            "****** Processed frame 23 | Time per frame (avg): 1.13s | Time left: 0:04:32.678546 ******************\n",
            "****** Processed frame 24 | Time per frame (avg): 1.12s | Time left: 0:04:28.237123 ******************\n",
            "****** Processed frame 25 | Time per frame (avg): 1.11s | Time left: 0:04:24.184450 ******************\n",
            "****** Processed frame 26 | Time per frame (avg): 1.09s | Time left: 0:04:20.298030 ******************\n",
            "****** Processed frame 27 | Time per frame (avg): 1.08s | Time left: 0:04:16.580708 ******************\n",
            "****** Processed frame 28 | Time per frame (avg): 1.07s | Time left: 0:04:13.131044 ******************\n",
            "****** Processed frame 29 | Time per frame (avg): 1.06s | Time left: 0:04:09.855939 ******************\n",
            "****** Processed frame 30 | Time per frame (avg): 1.05s | Time left: 0:04:06.817212 ******************\n",
            "****** Processed frame 31 | Time per frame (avg): 1.05s | Time left: 0:04:03.865436 ******************\n",
            "****** Processed frame 32 | Time per frame (avg): 1.04s | Time left: 0:04:00.999042 ******************\n",
            "****** Processed frame 33 | Time per frame (avg): 1.03s | Time left: 0:03:58.295880 ******************\n",
            "****** Processed frame 34 | Time per frame (avg): 1.02s | Time left: 0:03:55.710877 ******************\n",
            "****** Processed frame 35 | Time per frame (avg): 1.02s | Time left: 0:03:53.299494 ******************\n",
            "****** Processed frame 36 | Time per frame (avg): 1.01s | Time left: 0:03:50.914241 ******************\n",
            "****** Processed frame 37 | Time per frame (avg): 1.01s | Time left: 0:03:48.584643 ******************\n",
            "****** Processed frame 38 | Time per frame (avg): 1.00s | Time left: 0:03:46.339533 ******************\n",
            "****** Processed frame 39 | Time per frame (avg): 1.00s | Time left: 0:03:44.209161 ******************\n",
            "****** Processed frame 40 | Time per frame (avg): 0.99s | Time left: 0:03:42.224742 ******************\n",
            "****** Processed frame 41 | Time per frame (avg): 0.99s | Time left: 0:03:40.180354 ******************\n",
            "****** Processed frame 42 | Time per frame (avg): 0.98s | Time left: 0:03:38.191639 ******************\n",
            "****** Processed frame 43 | Time per frame (avg): 0.98s | Time left: 0:03:36.271619 ******************\n",
            "****** Processed frame 44 | Time per frame (avg): 0.97s | Time left: 0:03:34.476833 ******************\n",
            "****** Processed frame 45 | Time per frame (avg): 0.97s | Time left: 0:03:32.741337 ******************\n",
            "****** Processed frame 46 | Time per frame (avg): 0.97s | Time left: 0:03:30.998607 ******************\n",
            "****** Processed frame 47 | Time per frame (avg): 0.96s | Time left: 0:03:29.301072 ******************\n",
            "****** Processed frame 48 | Time per frame (avg): 0.96s | Time left: 0:03:27.646359 ******************\n",
            "****** Processed frame 49 | Time per frame (avg): 0.96s | Time left: 0:03:26.042170 ******************\n",
            "****** Processed frame 50 | Time per frame (avg): 0.96s | Time left: 0:03:24.513869 ******************\n",
            "****** Processed frame 51 | Time per frame (avg): 0.95s | Time left: 0:03:22.987222 ******************\n",
            "****** Processed frame 52 | Time per frame (avg): 0.95s | Time left: 0:03:21.461738 ******************\n",
            "****** Processed frame 53 | Time per frame (avg): 0.95s | Time left: 0:03:19.957393 ******************\n",
            "****** Processed frame 54 | Time per frame (avg): 0.95s | Time left: 0:03:18.499543 ******************\n",
            "****** Processed frame 55 | Time per frame (avg): 0.94s | Time left: 0:03:17.082636 ******************\n",
            "****** Processed frame 56 | Time per frame (avg): 0.94s | Time left: 0:03:15.652606 ******************\n",
            "****** Processed frame 57 | Time per frame (avg): 0.94s | Time left: 0:03:14.246404 ******************\n",
            "****** Processed frame 58 | Time per frame (avg): 0.94s | Time left: 0:03:12.865265 ******************\n",
            "****** Processed frame 59 | Time per frame (avg): 0.93s | Time left: 0:03:11.513474 ******************\n",
            "****** Processed frame 60 | Time per frame (avg): 0.93s | Time left: 0:03:10.209622 ******************\n",
            "****** Processed frame 61 | Time per frame (avg): 0.93s | Time left: 0:03:08.892810 ******************\n",
            "****** Processed frame 62 | Time per frame (avg): 0.93s | Time left: 0:03:07.572523 ******************\n",
            "****** Processed frame 63 | Time per frame (avg): 0.93s | Time left: 0:03:06.279873 ******************\n",
            "****** Processed frame 64 | Time per frame (avg): 0.93s | Time left: 0:03:05.009519 ******************\n",
            "****** Processed frame 65 | Time per frame (avg): 0.92s | Time left: 0:03:03.875585 ******************\n",
            "****** Processed frame 66 | Time per frame (avg): 0.92s | Time left: 0:03:02.628036 ******************\n",
            "****** Processed frame 67 | Time per frame (avg): 0.92s | Time left: 0:03:01.382113 ******************\n",
            "****** Processed frame 68 | Time per frame (avg): 0.92s | Time left: 0:03:00.162000 ******************\n",
            "****** Processed frame 69 | Time per frame (avg): 0.92s | Time left: 0:02:58.978297 ******************\n",
            "****** Processed frame 70 | Time per frame (avg): 0.92s | Time left: 0:02:57.816306 ******************\n",
            "****** Processed frame 71 | Time per frame (avg): 0.92s | Time left: 0:02:56.633188 ******************\n",
            "****** Processed frame 72 | Time per frame (avg): 0.91s | Time left: 0:02:55.458952 ******************\n",
            "****** Processed frame 73 | Time per frame (avg): 0.91s | Time left: 0:02:54.313330 ******************\n",
            "****** Processed frame 74 | Time per frame (avg): 0.91s | Time left: 0:02:53.172660 ******************\n",
            "****** Processed frame 75 | Time per frame (avg): 0.91s | Time left: 0:02:52.067715 ******************\n",
            "****** Processed frame 76 | Time per frame (avg): 0.91s | Time left: 0:02:50.937447 ******************\n",
            "****** Processed frame 77 | Time per frame (avg): 0.91s | Time left: 0:02:49.815497 ******************\n",
            "****** Processed frame 78 | Time per frame (avg): 0.91s | Time left: 0:02:48.703359 ******************\n",
            "****** Processed frame 79 | Time per frame (avg): 0.91s | Time left: 0:02:47.596636 ******************\n",
            "****** Processed frame 80 | Time per frame (avg): 0.91s | Time left: 0:02:46.526707 ******************\n",
            "****** Processed frame 81 | Time per frame (avg): 0.90s | Time left: 0:02:45.428403 ******************\n",
            "****** Processed frame 82 | Time per frame (avg): 0.90s | Time left: 0:02:44.335229 ******************\n",
            "****** Processed frame 83 | Time per frame (avg): 0.90s | Time left: 0:02:43.261483 ******************\n",
            "****** Processed frame 84 | Time per frame (avg): 0.90s | Time left: 0:02:42.202866 ******************\n",
            "****** Processed frame 85 | Time per frame (avg): 0.90s | Time left: 0:02:41.159510 ******************\n",
            "****** Processed frame 86 | Time per frame (avg): 0.90s | Time left: 0:02:40.096546 ******************\n",
            "****** Processed frame 87 | Time per frame (avg): 0.90s | Time left: 0:02:39.037398 ******************\n",
            "****** Processed frame 88 | Time per frame (avg): 0.90s | Time left: 0:02:37.993614 ******************\n",
            "****** Processed frame 89 | Time per frame (avg): 0.90s | Time left: 0:02:36.961551 ******************\n",
            "****** Processed frame 90 | Time per frame (avg): 0.90s | Time left: 0:02:35.939381 ******************\n",
            "****** Processed frame 91 | Time per frame (avg): 0.90s | Time left: 0:02:34.893704 ******************\n",
            "****** Processed frame 92 | Time per frame (avg): 0.89s | Time left: 0:02:33.855394 ******************\n",
            "****** Processed frame 93 | Time per frame (avg): 0.89s | Time left: 0:02:32.835217 ******************\n",
            "****** Processed frame 94 | Time per frame (avg): 0.89s | Time left: 0:02:31.827819 ******************\n",
            "****** Processed frame 95 | Time per frame (avg): 0.89s | Time left: 0:02:30.832017 ******************\n",
            "****** Processed frame 96 | Time per frame (avg): 0.89s | Time left: 0:02:29.814432 ******************\n",
            "****** Processed frame 97 | Time per frame (avg): 0.89s | Time left: 0:02:28.801285 ******************\n",
            "****** Processed frame 98 | Time per frame (avg): 0.89s | Time left: 0:02:27.798416 ******************\n",
            "****** Processed frame 99 | Time per frame (avg): 0.89s | Time left: 0:02:26.883531 ******************\n",
            "****** Processed frame 100 | Time per frame (avg): 0.89s | Time left: 0:02:25.978395 ******************\n",
            "****** Processed frame 101 | Time per frame (avg): 0.89s | Time left: 0:02:25.176790 ******************\n",
            "****** Processed frame 102 | Time per frame (avg): 0.89s | Time left: 0:02:24.536922 ******************\n",
            "****** Processed frame 103 | Time per frame (avg): 0.89s | Time left: 0:02:23.788141 ******************\n",
            "****** Processed frame 104 | Time per frame (avg): 0.89s | Time left: 0:02:23.039863 ******************\n",
            "****** Processed frame 105 | Time per frame (avg): 0.89s | Time left: 0:02:22.280076 ******************\n",
            "****** Processed frame 106 | Time per frame (avg): 0.90s | Time left: 0:02:21.495101 ******************\n",
            "****** Processed frame 107 | Time per frame (avg): 0.90s | Time left: 0:02:20.680289 ******************\n",
            "****** Processed frame 108 | Time per frame (avg): 0.90s | Time left: 0:02:19.887402 ******************\n",
            "****** Processed frame 109 | Time per frame (avg): 0.90s | Time left: 0:02:19.135702 ******************\n",
            "****** Processed frame 110 | Time per frame (avg): 0.90s | Time left: 0:02:18.364402 ******************\n",
            "****** Processed frame 111 | Time per frame (avg): 0.90s | Time left: 0:02:17.605961 ******************\n",
            "****** Processed frame 112 | Time per frame (avg): 0.90s | Time left: 0:02:16.800495 ******************\n",
            "****** Processed frame 113 | Time per frame (avg): 0.90s | Time left: 0:02:16.016366 ******************\n",
            "****** Processed frame 114 | Time per frame (avg): 0.90s | Time left: 0:02:15.241748 ******************\n",
            "****** Processed frame 115 | Time per frame (avg): 0.90s | Time left: 0:02:14.423104 ******************\n",
            "****** Processed frame 116 | Time per frame (avg): 0.90s | Time left: 0:02:13.626763 ******************\n",
            "****** Processed frame 117 | Time per frame (avg): 0.90s | Time left: 0:02:12.833026 ******************\n",
            "****** Processed frame 118 | Time per frame (avg): 0.90s | Time left: 0:02:12.006374 ******************\n",
            "****** Processed frame 119 | Time per frame (avg): 0.90s | Time left: 0:02:11.221392 ******************\n",
            "****** Processed frame 120 | Time per frame (avg): 0.91s | Time left: 0:02:10.418850 ******************\n",
            "****** Processed frame 121 | Time per frame (avg): 0.91s | Time left: 0:02:09.588876 ******************\n",
            "****** Processed frame 122 | Time per frame (avg): 0.91s | Time left: 0:02:08.759688 ******************\n",
            "****** Processed frame 123 | Time per frame (avg): 0.91s | Time left: 0:02:07.914315 ******************\n",
            "****** Processed frame 124 | Time per frame (avg): 0.91s | Time left: 0:02:07.114486 ******************\n",
            "****** Processed frame 125 | Time per frame (avg): 0.91s | Time left: 0:02:06.305093 ******************\n",
            "****** Processed frame 126 | Time per frame (avg): 0.91s | Time left: 0:02:05.472634 ******************\n",
            "****** Processed frame 127 | Time per frame (avg): 0.91s | Time left: 0:02:04.654346 ******************\n",
            "****** Processed frame 128 | Time per frame (avg): 0.91s | Time left: 0:02:03.844612 ******************\n",
            "****** Processed frame 129 | Time per frame (avg): 0.91s | Time left: 0:02:03.042091 ******************\n",
            "****** Processed frame 130 | Time per frame (avg): 0.91s | Time left: 0:02:02.222971 ******************\n",
            "****** Processed frame 131 | Time per frame (avg): 0.91s | Time left: 0:02:01.405754 ******************\n",
            "****** Processed frame 132 | Time per frame (avg): 0.91s | Time left: 0:02:00.557872 ******************\n",
            "****** Processed frame 133 | Time per frame (avg): 0.91s | Time left: 0:01:59.741437 ******************\n",
            "****** Processed frame 134 | Time per frame (avg): 0.91s | Time left: 0:01:58.933761 ******************\n",
            "****** Processed frame 135 | Time per frame (avg): 0.92s | Time left: 0:01:58.101801 ******************\n",
            "****** Processed frame 136 | Time per frame (avg): 0.92s | Time left: 0:01:57.252346 ******************\n",
            "****** Processed frame 137 | Time per frame (avg): 0.92s | Time left: 0:01:56.388392 ******************\n",
            "****** Processed frame 138 | Time per frame (avg): 0.92s | Time left: 0:01:55.531431 ******************\n",
            "****** Processed frame 139 | Time per frame (avg): 0.92s | Time left: 0:01:54.687951 ******************\n",
            "****** Processed frame 140 | Time per frame (avg): 0.92s | Time left: 0:01:53.832083 ******************\n",
            "****** Processed frame 141 | Time per frame (avg): 0.92s | Time left: 0:01:52.992135 ******************\n",
            "****** Processed frame 142 | Time per frame (avg): 0.92s | Time left: 0:01:52.126417 ******************\n",
            "****** Processed frame 143 | Time per frame (avg): 0.92s | Time left: 0:01:51.250320 ******************\n",
            "****** Processed frame 144 | Time per frame (avg): 0.92s | Time left: 0:01:50.416176 ******************\n",
            "****** Processed frame 145 | Time per frame (avg): 0.92s | Time left: 0:01:49.572636 ******************\n",
            "****** Processed frame 146 | Time per frame (avg): 0.92s | Time left: 0:01:48.704471 ******************\n",
            "****** Processed frame 147 | Time per frame (avg): 0.92s | Time left: 0:01:47.840853 ******************\n",
            "****** Processed frame 148 | Time per frame (avg): 0.92s | Time left: 0:01:46.958471 ******************\n",
            "****** Processed frame 149 | Time per frame (avg): 0.92s | Time left: 0:01:46.103945 ******************\n",
            "****** Processed frame 150 | Time per frame (avg): 0.92s | Time left: 0:01:45.231653 ******************\n",
            "****** Processed frame 151 | Time per frame (avg): 0.92s | Time left: 0:01:44.348090 ******************\n",
            "****** Processed frame 152 | Time per frame (avg): 0.92s | Time left: 0:01:43.487472 ******************\n",
            "****** Processed frame 153 | Time per frame (avg): 0.92s | Time left: 0:01:42.616044 ******************\n",
            "****** Processed frame 154 | Time per frame (avg): 0.92s | Time left: 0:01:41.740787 ******************\n",
            "****** Processed frame 155 | Time per frame (avg): 0.93s | Time left: 0:01:40.863269 ******************\n",
            "****** Processed frame 156 | Time per frame (avg): 0.93s | Time left: 0:01:39.991627 ******************\n",
            "****** Processed frame 157 | Time per frame (avg): 0.93s | Time left: 0:01:39.104210 ******************\n",
            "****** Processed frame 158 | Time per frame (avg): 0.93s | Time left: 0:01:38.222112 ******************\n",
            "****** Processed frame 159 | Time per frame (avg): 0.93s | Time left: 0:01:37.345289 ******************\n",
            "****** Processed frame 160 | Time per frame (avg): 0.93s | Time left: 0:01:36.467721 ******************\n",
            "****** Processed frame 161 | Time per frame (avg): 0.93s | Time left: 0:01:35.590107 ******************\n",
            "****** Processed frame 162 | Time per frame (avg): 0.93s | Time left: 0:01:34.694414 ******************\n",
            "****** Processed frame 163 | Time per frame (avg): 0.93s | Time left: 0:01:33.807595 ******************\n",
            "****** Processed frame 164 | Time per frame (avg): 0.93s | Time left: 0:01:32.922069 ******************\n",
            "****** Processed frame 165 | Time per frame (avg): 0.93s | Time left: 0:01:32.023641 ******************\n",
            "****** Processed frame 166 | Time per frame (avg): 0.93s | Time left: 0:01:31.139693 ******************\n",
            "****** Processed frame 167 | Time per frame (avg): 0.93s | Time left: 0:01:30.253956 ******************\n",
            "****** Processed frame 168 | Time per frame (avg): 0.93s | Time left: 0:01:29.349277 ******************\n",
            "****** Processed frame 169 | Time per frame (avg): 0.93s | Time left: 0:01:28.463965 ******************\n",
            "****** Processed frame 170 | Time per frame (avg): 0.93s | Time left: 0:01:27.564340 ******************\n",
            "****** Processed frame 171 | Time per frame (avg): 0.93s | Time left: 0:01:26.660394 ******************\n",
            "****** Processed frame 172 | Time per frame (avg): 0.93s | Time left: 0:01:25.760391 ******************\n",
            "****** Processed frame 173 | Time per frame (avg): 0.93s | Time left: 0:01:24.855036 ******************\n",
            "****** Processed frame 174 | Time per frame (avg): 0.93s | Time left: 0:01:23.966733 ******************\n",
            "****** Processed frame 175 | Time per frame (avg): 0.93s | Time left: 0:01:23.067298 ******************\n",
            "****** Processed frame 176 | Time per frame (avg): 0.93s | Time left: 0:01:22.157991 ******************\n",
            "****** Processed frame 177 | Time per frame (avg): 0.93s | Time left: 0:01:21.258408 ******************\n",
            "****** Processed frame 178 | Time per frame (avg): 0.93s | Time left: 0:01:20.352822 ******************\n",
            "****** Processed frame 179 | Time per frame (avg): 0.93s | Time left: 0:01:19.450232 ******************\n",
            "****** Processed frame 180 | Time per frame (avg): 0.94s | Time left: 0:01:18.545280 ******************\n",
            "****** Processed frame 181 | Time per frame (avg): 0.94s | Time left: 0:01:17.639142 ******************\n",
            "****** Processed frame 182 | Time per frame (avg): 0.94s | Time left: 0:01:16.725642 ******************\n",
            "****** Processed frame 183 | Time per frame (avg): 0.94s | Time left: 0:01:15.817896 ******************\n",
            "****** Processed frame 184 | Time per frame (avg): 0.94s | Time left: 0:01:14.910911 ******************\n",
            "****** Processed frame 185 | Time per frame (avg): 0.94s | Time left: 0:01:14.008399 ******************\n",
            "****** Processed frame 186 | Time per frame (avg): 0.94s | Time left: 0:01:13.104903 ******************\n",
            "****** Processed frame 187 | Time per frame (avg): 0.94s | Time left: 0:01:12.189573 ******************\n",
            "****** Processed frame 188 | Time per frame (avg): 0.94s | Time left: 0:01:11.278960 ******************\n",
            "****** Processed frame 189 | Time per frame (avg): 0.94s | Time left: 0:01:10.371820 ******************\n",
            "****** Processed frame 190 | Time per frame (avg): 0.94s | Time left: 0:01:09.447343 ******************\n",
            "****** Processed frame 191 | Time per frame (avg): 0.94s | Time left: 0:01:08.531557 ******************\n",
            "****** Processed frame 192 | Time per frame (avg): 0.94s | Time left: 0:01:07.618372 ******************\n",
            "****** Processed frame 193 | Time per frame (avg): 0.94s | Time left: 0:01:06.696061 ******************\n",
            "****** Processed frame 194 | Time per frame (avg): 0.94s | Time left: 0:01:05.781280 ******************\n",
            "****** Processed frame 195 | Time per frame (avg): 0.94s | Time left: 0:01:04.869095 ******************\n",
            "****** Processed frame 196 | Time per frame (avg): 0.94s | Time left: 0:01:03.947378 ******************\n",
            "****** Processed frame 197 | Time per frame (avg): 0.94s | Time left: 0:01:03.029959 ******************\n",
            "****** Processed frame 198 | Time per frame (avg): 0.94s | Time left: 0:01:02.104975 ******************\n",
            "****** Processed frame 199 | Time per frame (avg): 0.94s | Time left: 0:01:01.194651 ******************\n",
            "****** Processed frame 200 | Time per frame (avg): 0.94s | Time left: 0:01:00.275457 ******************\n",
            "****** Processed frame 201 | Time per frame (avg): 0.94s | Time left: 0:00:59.351259 ******************\n",
            "****** Processed frame 202 | Time per frame (avg): 0.94s | Time left: 0:00:58.427733 ******************\n",
            "****** Processed frame 203 | Time per frame (avg): 0.94s | Time left: 0:00:57.505404 ******************\n",
            "****** Processed frame 204 | Time per frame (avg): 0.94s | Time left: 0:00:56.583204 ******************\n",
            "****** Processed frame 205 | Time per frame (avg): 0.94s | Time left: 0:00:55.660539 ******************\n",
            "****** Processed frame 206 | Time per frame (avg): 0.94s | Time left: 0:00:54.738069 ******************\n",
            "****** Processed frame 207 | Time per frame (avg): 0.94s | Time left: 0:00:53.808496 ******************\n",
            "****** Processed frame 208 | Time per frame (avg): 0.94s | Time left: 0:00:52.883089 ******************\n",
            "****** Processed frame 209 | Time per frame (avg): 0.94s | Time left: 0:00:51.962453 ******************\n",
            "****** Processed frame 210 | Time per frame (avg): 0.95s | Time left: 0:00:51.038739 ******************\n",
            "****** Processed frame 211 | Time per frame (avg): 0.95s | Time left: 0:00:50.112597 ******************\n",
            "****** Processed frame 212 | Time per frame (avg): 0.95s | Time left: 0:00:49.177094 ******************\n",
            "****** Processed frame 213 | Time per frame (avg): 0.95s | Time left: 0:00:48.246407 ******************\n",
            "****** Processed frame 214 | Time per frame (avg): 0.95s | Time left: 0:00:47.318765 ******************\n",
            "****** Processed frame 215 | Time per frame (avg): 0.95s | Time left: 0:00:46.382336 ******************\n",
            "****** Processed frame 216 | Time per frame (avg): 0.95s | Time left: 0:00:45.450666 ******************\n",
            "****** Processed frame 217 | Time per frame (avg): 0.95s | Time left: 0:00:44.522693 ******************\n",
            "****** Processed frame 218 | Time per frame (avg): 0.95s | Time left: 0:00:43.583233 ******************\n",
            "****** Processed frame 219 | Time per frame (avg): 0.95s | Time left: 0:00:42.655254 ******************\n",
            "****** Processed frame 220 | Time per frame (avg): 0.95s | Time left: 0:00:41.720668 ******************\n",
            "****** Processed frame 221 | Time per frame (avg): 0.95s | Time left: 0:00:40.781133 ******************\n",
            "****** Processed frame 222 | Time per frame (avg): 0.95s | Time left: 0:00:39.844937 ******************\n",
            "****** Processed frame 223 | Time per frame (avg): 0.95s | Time left: 0:00:38.903641 ******************\n",
            "****** Processed frame 224 | Time per frame (avg): 0.95s | Time left: 0:00:37.968884 ******************\n",
            "****** Processed frame 225 | Time per frame (avg): 0.95s | Time left: 0:00:37.031200 ******************\n",
            "****** Processed frame 226 | Time per frame (avg): 0.95s | Time left: 0:00:36.089444 ******************\n",
            "****** Processed frame 227 | Time per frame (avg): 0.95s | Time left: 0:00:35.150558 ******************\n",
            "****** Processed frame 228 | Time per frame (avg): 0.95s | Time left: 0:00:34.210793 ******************\n",
            "****** Processed frame 229 | Time per frame (avg): 0.95s | Time left: 0:00:33.269728 ******************\n",
            "****** Processed frame 230 | Time per frame (avg): 0.95s | Time left: 0:00:32.326267 ******************\n",
            "****** Processed frame 231 | Time per frame (avg): 0.95s | Time left: 0:00:31.381451 ******************\n",
            "****** Processed frame 232 | Time per frame (avg): 0.95s | Time left: 0:00:30.435310 ******************\n",
            "****** Processed frame 233 | Time per frame (avg): 0.95s | Time left: 0:00:29.490192 ******************\n",
            "****** Processed frame 234 | Time per frame (avg): 0.95s | Time left: 0:00:28.544368 ******************\n",
            "****** Processed frame 235 | Time per frame (avg): 0.95s | Time left: 0:00:27.598018 ******************\n",
            "****** Processed frame 236 | Time per frame (avg): 0.95s | Time left: 0:00:26.651074 ******************\n",
            "****** Processed frame 237 | Time per frame (avg): 0.95s | Time left: 0:00:25.703328 ******************\n",
            "****** Processed frame 238 | Time per frame (avg): 0.95s | Time left: 0:00:24.756800 ******************\n",
            "****** Processed frame 239 | Time per frame (avg): 0.95s | Time left: 0:00:23.810285 ******************\n",
            "****** Processed frame 240 | Time per frame (avg): 0.95s | Time left: 0:00:22.860212 ******************\n",
            "****** Processed frame 241 | Time per frame (avg): 0.95s | Time left: 0:00:21.910985 ******************\n",
            "****** Processed frame 242 | Time per frame (avg): 0.95s | Time left: 0:00:20.961355 ******************\n",
            "****** Processed frame 243 | Time per frame (avg): 0.95s | Time left: 0:00:20.010319 ******************\n",
            "****** Processed frame 244 | Time per frame (avg): 0.95s | Time left: 0:00:19.061343 ******************\n",
            "****** Processed frame 245 | Time per frame (avg): 0.95s | Time left: 0:00:18.111247 ******************\n",
            "****** Processed frame 246 | Time per frame (avg): 0.95s | Time left: 0:00:17.160265 ******************\n",
            "****** Processed frame 247 | Time per frame (avg): 0.95s | Time left: 0:00:16.210136 ******************\n",
            "****** Processed frame 248 | Time per frame (avg): 0.95s | Time left: 0:00:15.258274 ******************\n",
            "****** Processed frame 249 | Time per frame (avg): 0.95s | Time left: 0:00:14.307599 ******************\n",
            "****** Processed frame 250 | Time per frame (avg): 0.95s | Time left: 0:00:13.356210 ******************\n",
            "****** Processed frame 251 | Time per frame (avg): 0.95s | Time left: 0:00:12.403347 ******************\n",
            "****** Processed frame 252 | Time per frame (avg): 0.95s | Time left: 0:00:11.450523 ******************\n",
            "****** Processed frame 253 | Time per frame (avg): 0.95s | Time left: 0:00:10.497848 ******************\n",
            "****** Processed frame 254 | Time per frame (avg): 0.95s | Time left: 0:00:09.545229 ******************\n",
            "****** Processed frame 255 | Time per frame (avg): 0.95s | Time left: 0:00:08.592066 ******************\n",
            "****** Processed frame 256 | Time per frame (avg): 0.95s | Time left: 0:00:07.638646 ******************\n",
            "****** Processed frame 257 | Time per frame (avg): 0.95s | Time left: 0:00:06.684512 ******************\n",
            "****** Processed frame 258 | Time per frame (avg): 0.96s | Time left: 0:00:05.730316 ******************\n",
            "****** Processed frame 259 | Time per frame (avg): 0.96s | Time left: 0:00:04.776007 ******************\n",
            "****** Processed frame 260 | Time per frame (avg): 0.96s | Time left: 0:00:03.821340 ******************\n",
            "****** Processed frame 261 | Time per frame (avg): 0.96s | Time left: 0:00:02.866536 ******************\n",
            "****** Processed frame 262 | Time per frame (avg): 0.96s | Time left: 0:00:01.911024 ******************\n",
            "****** Processed frame 263 | Time per frame (avg): 0.96s | Time left: 0:00:00.955581 ******************\n",
            "Finished processing images.\n"
          ],
          "name": "stdout"
        }
      ]
    },
    {
      "cell_type": "code",
      "metadata": {
        "id": "tD9UwLIH_fpB",
        "colab": {
          "base_uri": "https://localhost:8080/"
        },
        "outputId": "b5b61689-c7c0-466c-9213-86476d296e3e"
      },
      "source": [
        "#@title ##**Собираем видео** { display-mode: \"form\" }\n",
        "\n",
        "# Finding DAIN Frames, upscaling and cropping to match original\n",
        "%cd {FRAME_OUTPUT_DIR}\n",
        "\n",
        "if (RESIZE_HOTFIX):\n",
        "  images = []\n",
        "  for filename in os.listdir(FRAME_OUTPUT_DIR):\n",
        "    img = cv2.imread(os.path.join(FRAME_OUTPUT_DIR, filename))\n",
        "    filename = os.path.splitext(filename)[0]\n",
        "    if(not filename.endswith('0')):\n",
        "      dimensions = (img.shape[1]+2, img.shape[0]+2)\n",
        "      resized = cv2.resize(img, dimensions, interpolation=cv2.INTER_LANCZOS4)\n",
        "      crop = resized[1:(dimensions[1]-1), 1:(dimensions[0]-1)]\n",
        "      cv2.imwrite(f\"{filename}.png\", crop)\n",
        "\n",
        "################\n",
        "# Create output video\n",
        "%cd {FRAME_OUTPUT_DIR}\n",
        "#%shell ffmpeg -y -r {TARGET_FPS} -f image2 -pattern_type glob -i '*.png' '{OUTPUT_FILE_PATH}'\n",
        "\n",
        "####################\n",
        "#@title ##**Собираем кадры в видео** { display-mode: \"form\" }\n",
        "frames = []\n",
        "img = os.listdir(FRAME_OUTPUT_DIR)\n",
        "img.sort()\n",
        "for i in img:\n",
        "  frames.append(imageio.imread(FRAME_OUTPUT_DIR + \"/\" + i))\n",
        "frames = np.array(frames)\n",
        "imageio.mimsave(\"/content/interpolated_video.mp4\", frames, fps = TARGET_FPS)\n",
        "\n",
        "print('Сборка завершена')\n",
        "!cp -r /content/interpolated_video.mp4 /content/video.mp4\n",
        "#clear_output()"
      ],
      "execution_count": 25,
      "outputs": [
        {
          "output_type": "stream",
          "text": [
            "/content/DAIN/output_frames\n"
          ],
          "name": "stdout"
        }
      ]
    },
    {
      "cell_type": "code",
      "metadata": {
        "colab": {
          "base_uri": "https://localhost:8080/",
          "height": 17
        },
        "id": "jjS1FKmIQ8su",
        "outputId": "2a7983e1-c043-424e-82f3-9b86ec50ff63"
      },
      "source": [
        "#@title ##**Получаем результат** { display-mode: \"form\" }\n",
        "#@markdown **play** *- воспроизвести видео в браузере,*\n",
        "\n",
        "#@markdown **download** *- загрузить на компьютер*\n",
        "what_next = 'download' #@param [\"play\", \"download\"]\n",
        "if what_next == \"play\":\n",
        "  display(mpy.ipython_display(\"/content/interpolated_video.mp4\", height=400, autoplay=1, loop=1, maxduration=600))\n",
        "else:\n",
        "  files.download('/content/interpolated_video.mp4')\n",
        "\n",
        "if(AUTO_REMOVE):\n",
        "  !rm -rf {FRAME_OUTPUT_DIR}/*\n",
        "\n"
      ],
      "execution_count": 28,
      "outputs": [
        {
          "output_type": "display_data",
          "data": {
            "application/javascript": [
              "\n",
              "    async function download(id, filename, size) {\n",
              "      if (!google.colab.kernel.accessAllowed) {\n",
              "        return;\n",
              "      }\n",
              "      const div = document.createElement('div');\n",
              "      const label = document.createElement('label');\n",
              "      label.textContent = `Downloading \"${filename}\": `;\n",
              "      div.appendChild(label);\n",
              "      const progress = document.createElement('progress');\n",
              "      progress.max = size;\n",
              "      div.appendChild(progress);\n",
              "      document.body.appendChild(div);\n",
              "\n",
              "      const buffers = [];\n",
              "      let downloaded = 0;\n",
              "\n",
              "      const channel = await google.colab.kernel.comms.open(id);\n",
              "      // Send a message to notify the kernel that we're ready.\n",
              "      channel.send({})\n",
              "\n",
              "      for await (const message of channel.messages) {\n",
              "        // Send a message to notify the kernel that we're ready.\n",
              "        channel.send({})\n",
              "        if (message.buffers) {\n",
              "          for (const buffer of message.buffers) {\n",
              "            buffers.push(buffer);\n",
              "            downloaded += buffer.byteLength;\n",
              "            progress.value = downloaded;\n",
              "          }\n",
              "        }\n",
              "      }\n",
              "      const blob = new Blob(buffers, {type: 'application/binary'});\n",
              "      const a = document.createElement('a');\n",
              "      a.href = window.URL.createObjectURL(blob);\n",
              "      a.download = filename;\n",
              "      div.appendChild(a);\n",
              "      a.click();\n",
              "      div.remove();\n",
              "    }\n",
              "  "
            ],
            "text/plain": [
              "<IPython.core.display.Javascript object>"
            ]
          },
          "metadata": {
            "tags": []
          }
        },
        {
          "output_type": "display_data",
          "data": {
            "application/javascript": [
              "download(\"download_e6b9ae84-b202-47a6-95a0-a0bd4d8d6067\", \"interpolated_video.mp4\", 354638)"
            ],
            "text/plain": [
              "<IPython.core.display.Javascript object>"
            ]
          },
          "metadata": {
            "tags": []
          }
        }
      ]
    },
    {
      "cell_type": "markdown",
      "metadata": {
        "id": "awJtC4Fk4hva"
      },
      "source": [
        "# <b>Увеличение разрешения ([ESRGAN](https://github.com/xinntao/ESRGAN))\n",
        "\n"
      ]
    },
    {
      "cell_type": "markdown",
      "metadata": {
        "id": "nOk0dhIo4kjE"
      },
      "source": [
        "Автор: [Xintao Wang](https://xinntao.github.io)"
      ]
    },
    {
      "cell_type": "code",
      "metadata": {
        "id": "jywB_rE_4q25"
      },
      "source": [
        "#@title ##**Клонируем репозиторий и качаем необходимые компоненты** { display-mode: \"form\" }\n",
        "\n",
        "%cd /content\n",
        "!git clone https://github.com/xinntao/ESRGAN.git\n",
        "!cp -r video.mp4 /content/ESRGAN/\n",
        "%cd /content/ESRGAN\n",
        "!git checkout tags/old-arch\n",
        "\n",
        "%cd /content/ESRGAN/models/\n",
        "my_file_id = \"1MJFgqXJrMkPdKtiuy7C6xfsU1QIbXEb-\"\n",
        "!gdown https://drive.google.com/uc?id={my_file_id}\n",
        "\n",
        "\n",
        "%cd /content/ESRGAN\n",
        "\n",
        "import architecture as arch\n",
        "import os.path\n",
        "\n",
        "!mkdir frames\n",
        "!rm -rf results/baboon_ESRGAN.png\n",
        "clear_output()\n",
        "\n"
      ],
      "execution_count": 29,
      "outputs": []
    },
    {
      "cell_type": "code",
      "metadata": {
        "id": "vXU83Wes59gI"
      },
      "source": [
        "#@title ##**Разделяем видео на кадры** { display-mode: \"form\" }\n",
        "frames_of_video = int(cv2.VideoCapture(\"video.mp4\").get(cv2.CAP_PROP_FRAME_COUNT))\n",
        "fps_of_video = int(cv2.VideoCapture(\"video.mp4\").get(cv2.CAP_PROP_FPS))\n",
        "vidcap = cv2.VideoCapture('video.mp4')\n",
        "success,image = vidcap.read()\n",
        "count = 0\n",
        "success = True\n",
        "while success:\n",
        "  cv2.imwrite(\"frames/frame%09d.jpg\" % count, image)\n",
        "  success,image = vidcap.read()\n",
        "  count += 1"
      ],
      "execution_count": 30,
      "outputs": []
    },
    {
      "cell_type": "code",
      "metadata": {
        "id": "XyG_y3B36Ken"
      },
      "source": [
        "#@title ##**Увеличиваем разрешение кадра** { display-mode: \"form\" }\n",
        "#@markdown **Во сколько раз увеличить разрешение:**\n",
        "upscale = 4 #@param {type: \"slider\", min: 4, max: 8}\n",
        "%env CUDA_VISIBLE_DEVICES=0\n",
        "device = torch.device('cuda')\n",
        "model = arch.RRDB_Net(3, 3, 64, 23, gc=32, upscale=upscale, norm_type=None, act_type='leakyrelu', \\\n",
        "                        mode='CNA', res_scale=1, upsample_mode='upconv')\n",
        "model.load_state_dict(torch.load('models/{:s}'.format('RRDB_ESRGAN_x4_old_arch.pth')), strict=True)\n",
        "model.eval()\n",
        "for k, v in model.named_parameters():\n",
        "    v.requires_grad = False\n",
        "model = model.to(device)\n",
        "\n",
        "count_frames = 0\n",
        "\n",
        "for path in glob.glob('frames/*'):\n",
        "    base = os.path.splitext(os.path.basename(path))[0]\n",
        "    img = cv2.imread(path, cv2.IMREAD_COLOR)\n",
        "    img = img * 1.0 / 255\n",
        "    img = torch.from_numpy(np.transpose(img[:, :, [2, 1, 0]], (2, 0, 1))).float()\n",
        "    img_LR = img.unsqueeze(0)\n",
        "    img_LR = img_LR.to(device)\n",
        "\n",
        "    output = model(img_LR).data.squeeze().float().cpu().clamp_(0, 1).numpy()\n",
        "    output = np.transpose(output[[2, 1, 0], :, :], (1, 2, 0))\n",
        "    output = (output * 255.0).round()\n",
        "    path = 'results/{:s}_rlt.png'.format(base)\n",
        "    cv2.imwrite(path, output)\n",
        "    count_frames += 1\n",
        "    clear_output()\n",
        "    print(\"Обработано: {} из {}\".format(str(count_frames), str(frames_of_video)))\n",
        "clear_output()"
      ],
      "execution_count": 31,
      "outputs": []
    },
    {
      "cell_type": "code",
      "metadata": {
        "id": "DL-j2AajFa5n",
        "colab": {
          "base_uri": "https://localhost:8080/"
        },
        "outputId": "7b4f91ec-ed6c-4201-c9aa-2a8b63c34cd1"
      },
      "source": [
        "#@title ##**Собираем кадры в видео** { display-mode: \"form\" }\n",
        "%cd /content/ESRGAN/\n",
        "frames = []\n",
        "img = os.listdir(\"results/\")\n",
        "img.sort()\n",
        "for i in img:\n",
        "  frames.append(imageio.imread(\"results/\"+i))\n",
        "frames = np.array(frames)\n",
        "imageio.mimsave(\"upscaled_video.mp4\", frames, fps=fps_of_video)\n",
        "\n",
        "print('Сборка завершена')\n",
        "!cp -r upscaled_video.mp4 /content/upscaled_video.mp4\n",
        "!cp -r upscaled_video.mp4 /content/video.mp4\n",
        "#clear_output()"
      ],
      "execution_count": 32,
      "outputs": [
        {
          "output_type": "stream",
          "text": [
            "/content/ESRGAN\n",
            "Сборка завершена\n"
          ],
          "name": "stdout"
        }
      ]
    },
    {
      "cell_type": "code",
      "metadata": {
        "id": "7wpP4kb06XZB",
        "colab": {
          "base_uri": "https://localhost:8080/",
          "height": 17
        },
        "outputId": "fe5bb216-e328-4271-9a6c-261c1586b9fa"
      },
      "source": [
        "#@title ##**Получаем результат** { display-mode: \"form\" }\n",
        "#@markdown **play** *- воспроизвести видео в браузере,*\n",
        "\n",
        "#@markdown **download** *- загрузить на компьютер*\n",
        "what_next = 'download' #@param [\"play\", \"download\"]\n",
        "if what_next == \"play\":\n",
        "  display(mpy.ipython_display(\"/content/upscaled_video.mp4\", height=400, autoplay=1, loop=1, maxduration=600))\n",
        "else:\n",
        "  files.download(\"/content/upscaled_video.mp4\")"
      ],
      "execution_count": 33,
      "outputs": [
        {
          "output_type": "display_data",
          "data": {
            "application/javascript": [
              "\n",
              "    async function download(id, filename, size) {\n",
              "      if (!google.colab.kernel.accessAllowed) {\n",
              "        return;\n",
              "      }\n",
              "      const div = document.createElement('div');\n",
              "      const label = document.createElement('label');\n",
              "      label.textContent = `Downloading \"${filename}\": `;\n",
              "      div.appendChild(label);\n",
              "      const progress = document.createElement('progress');\n",
              "      progress.max = size;\n",
              "      div.appendChild(progress);\n",
              "      document.body.appendChild(div);\n",
              "\n",
              "      const buffers = [];\n",
              "      let downloaded = 0;\n",
              "\n",
              "      const channel = await google.colab.kernel.comms.open(id);\n",
              "      // Send a message to notify the kernel that we're ready.\n",
              "      channel.send({})\n",
              "\n",
              "      for await (const message of channel.messages) {\n",
              "        // Send a message to notify the kernel that we're ready.\n",
              "        channel.send({})\n",
              "        if (message.buffers) {\n",
              "          for (const buffer of message.buffers) {\n",
              "            buffers.push(buffer);\n",
              "            downloaded += buffer.byteLength;\n",
              "            progress.value = downloaded;\n",
              "          }\n",
              "        }\n",
              "      }\n",
              "      const blob = new Blob(buffers, {type: 'application/binary'});\n",
              "      const a = document.createElement('a');\n",
              "      a.href = window.URL.createObjectURL(blob);\n",
              "      a.download = filename;\n",
              "      div.appendChild(a);\n",
              "      a.click();\n",
              "      div.remove();\n",
              "    }\n",
              "  "
            ],
            "text/plain": [
              "<IPython.core.display.Javascript object>"
            ]
          },
          "metadata": {
            "tags": []
          }
        },
        {
          "output_type": "display_data",
          "data": {
            "application/javascript": [
              "download(\"download_eee33a5b-b5fd-4c23-b0c9-b6c81900206a\", \"upscaled_video.mp4\", 5067046)"
            ],
            "text/plain": [
              "<IPython.core.display.Javascript object>"
            ]
          },
          "metadata": {
            "tags": []
          }
        }
      ]
    },
    {
      "cell_type": "markdown",
      "metadata": {
        "id": "oV8cUjSAtzPj"
      },
      "source": [
        "# <b>Раскрашивание видео ([DeOldify](https://github.com/jantic/DeOldify))\n"
      ]
    },
    {
      "cell_type": "markdown",
      "metadata": {
        "id": "j2ZfJ_ppt4e4"
      },
      "source": [
        "Автор: [Jason Antic](https://twitter.com/citnaj)"
      ]
    },
    {
      "cell_type": "code",
      "metadata": {
        "id": "JqdxK6Nqt_wG"
      },
      "source": [
        "#@title ##**Клонируем репозиторий и устанавливаем необходимые зависимости** { display-mode: \"form\" }\n",
        "%cd /content\n",
        "!git clone https://github.com/jantic/DeOldify.git\n",
        "%cd /content/DeOldify\n",
        "!pip install -r colab_requirements.txt\n",
        "clear_output()"
      ],
      "execution_count": 42,
      "outputs": []
    },
    {
      "cell_type": "code",
      "metadata": {
        "id": "R9ku53oluEBI"
      },
      "source": [
        "#@title ##**Качаем предобученную модель** { display-mode: \"form\" }\n",
        "from deoldify.visualize import *\n",
        "!mkdir 'models'\n",
        "!rm -rf models/ColorizeVideo_gen.pth\n",
        "!wget https://data.deepai.org/deoldify/ColorizeVideo_gen.pth -O ./models/ColorizeVideo_gen.pth\n",
        "colorizer = get_video_colorizer()\n",
        "clear_output()"
      ],
      "execution_count": 43,
      "outputs": []
    },
    {
      "cell_type": "code",
      "metadata": {
        "id": "IW0iiSuCuM-U"
      },
      "source": [
        "#@title ##**Раскрашиваем видео** { display-mode: \"form\" }\n",
        "#@markdown **21, 35** *- оптимальные показатели*\n",
        "!rm -rf video\n",
        "!mkdir 'video'\n",
        "!mkdir 'video/source'\n",
        "!cp -r $file_src video/source/video.mp4\n",
        "\n",
        "render_factor = 21  #@param {type: \"slider\", min: 5, max: 44}\n",
        "video_path = colorizer.colorize_from_file_name('video.mp4', render_factor)\n",
        "clear_output()"
      ],
      "execution_count": 44,
      "outputs": []
    },
    {
      "cell_type": "code",
      "metadata": {
        "id": "0dMrAxiMuYoj",
        "colab": {
          "base_uri": "https://localhost:8080/",
          "height": 17
        },
        "outputId": "7870a388-7f47-4e6d-dc46-61bee95f1108"
      },
      "source": [
        "#@title ##**Получаем результат** { display-mode: \"form\" }\n",
        "#@markdown **play** *- воспроизвести видео в браузере,*\n",
        "\n",
        "#@markdown **download** *- загрузить на компьютер*\n",
        "!cp -r video/result/video.mp4 $file_src\n",
        "!cp -r video/result/video.mp4 /content/colored_video.mp4\n",
        "\n",
        "what_next = 'download' #@param [\"play\", \"download\"]\n",
        "if what_next == \"play\":\n",
        "  display(mpy.ipython_display(file_src, height=400, autoplay=1, loop=1, maxduration=600))\n",
        "else:\n",
        "  files.download(\"/content/colored_video.mp4\")"
      ],
      "execution_count": 48,
      "outputs": [
        {
          "output_type": "display_data",
          "data": {
            "application/javascript": [
              "\n",
              "    async function download(id, filename, size) {\n",
              "      if (!google.colab.kernel.accessAllowed) {\n",
              "        return;\n",
              "      }\n",
              "      const div = document.createElement('div');\n",
              "      const label = document.createElement('label');\n",
              "      label.textContent = `Downloading \"${filename}\": `;\n",
              "      div.appendChild(label);\n",
              "      const progress = document.createElement('progress');\n",
              "      progress.max = size;\n",
              "      div.appendChild(progress);\n",
              "      document.body.appendChild(div);\n",
              "\n",
              "      const buffers = [];\n",
              "      let downloaded = 0;\n",
              "\n",
              "      const channel = await google.colab.kernel.comms.open(id);\n",
              "      // Send a message to notify the kernel that we're ready.\n",
              "      channel.send({})\n",
              "\n",
              "      for await (const message of channel.messages) {\n",
              "        // Send a message to notify the kernel that we're ready.\n",
              "        channel.send({})\n",
              "        if (message.buffers) {\n",
              "          for (const buffer of message.buffers) {\n",
              "            buffers.push(buffer);\n",
              "            downloaded += buffer.byteLength;\n",
              "            progress.value = downloaded;\n",
              "          }\n",
              "        }\n",
              "      }\n",
              "      const blob = new Blob(buffers, {type: 'application/binary'});\n",
              "      const a = document.createElement('a');\n",
              "      a.href = window.URL.createObjectURL(blob);\n",
              "      a.download = filename;\n",
              "      div.appendChild(a);\n",
              "      a.click();\n",
              "      div.remove();\n",
              "    }\n",
              "  "
            ],
            "text/plain": [
              "<IPython.core.display.Javascript object>"
            ]
          },
          "metadata": {
            "tags": []
          }
        },
        {
          "output_type": "display_data",
          "data": {
            "application/javascript": [
              "download(\"download_7cc5821d-01aa-4d62-820a-47d1c448cced\", \"colored_video.mp4\", 1954848)"
            ],
            "text/plain": [
              "<IPython.core.display.Javascript object>"
            ]
          },
          "metadata": {
            "tags": []
          }
        }
      ]
    }
  ]
}